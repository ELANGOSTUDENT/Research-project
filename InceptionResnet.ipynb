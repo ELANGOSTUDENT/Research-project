{
 "cells": [
  {
   "cell_type": "code",
   "execution_count": 3,
   "id": "f50939c8-2695-4892-a243-6da7c80a0a1b",
   "metadata": {},
   "outputs": [],
   "source": [
    "import pandas as pd\n",
    "import numpy as np\n",
    "import matplotlib.pyplot as plt\n",
    "plt.style.use('default')\n",
    "\n",
    "import os\n",
    "import tensorflow as tf\n",
    "import keras\n",
    "import cv2\n",
    "\n",
    "from sklearn.model_selection import train_test_split\n",
    "\n",
    "from tensorflow.keras.preprocessing.image import ImageDataGenerator, load_img, img_to_array\n",
    "from tensorflow.keras.callbacks import EarlyStopping, ModelCheckpoint, ReduceLROnPlateau\n",
    "from tensorflow.keras.utils import plot_model\n",
    "from tensorflow.keras import layers , models, optimizers\n",
    "\n",
    "\n",
    "from tensorflow.keras.models import Sequential, Model\n",
    "from tensorflow.keras.layers import *\n",
    "from tensorflow.keras.applications import InceptionResNetV2\n",
    "\n",
    "# Your code continues here...\n"
   ]
  },
  {
   "cell_type": "code",
   "execution_count": 4,
   "id": "035c17d8-3db5-4741-9445-167950a30159",
   "metadata": {},
   "outputs": [],
   "source": [
    "train_dir =r'C:\\Users\\ELANGO S\\ML-project\\train1000'\n",
    "test_dir =r'C:\\Users\\ELANGO S\\ML-project\\test1000'\n",
    "\n",
    "def Classes_Count( path, name):\n",
    "    Classes_Dict = {}\n",
    "    \n",
    "    for Class in os.listdir(path):\n",
    "        \n",
    "        Full_Path = path +\"/\"+ Class\n",
    "        Classes_Dict[Class] = len(os.listdir(Full_Path))\n",
    "        \n",
    "    df = pd.DataFrame(Classes_Dict, index=[name])\n",
    "    \n",
    "    return df\n",
    "\n",
    "Train_Count = Classes_Count(train_dir, 'Train').transpose().sort_values(by=\"Train\", ascending=False)\n",
    "Test_Count = Classes_Count(test_dir, 'Test').transpose().sort_values(by=\"Test\", ascending=False)"
   ]
  },
  {
   "cell_type": "code",
   "execution_count": 11,
   "id": "2c31bc6f-6616-47c7-9068-0a55c060194b",
   "metadata": {},
   "outputs": [],
   "source": [
    "# specifing new image shape for resnet\n",
    "img_shape = 150\n",
    "batch_size = 32\n",
    "train_data_path = r'C:\\Users\\ELANGO S\\ML-project\\train1000'\n",
    "test_data_path = r'C:\\Users\\ELANGO S\\ML-project\\test1000'\n"
   ]
  },
  {
   "cell_type": "code",
   "execution_count": 12,
   "id": "cb780e4c-9baa-4d8e-b6c3-c8821e8737ed",
   "metadata": {},
   "outputs": [
    {
     "name": "stdout",
     "output_type": "stream",
     "text": [
      "Found 5600 images belonging to 7 classes.\n",
      "Found 1400 images belonging to 7 classes.\n"
     ]
    }
   ],
   "source": [
    "train_preprocessor = ImageDataGenerator(\n",
    "        rescale = 1 / 255.,\n",
    "        rotation_range=10,\n",
    "        zoom_range=0.2,\n",
    "        width_shift_range=0.1,\n",
    "        height_shift_range=0.1,\n",
    "        horizontal_flip=True,                                        \n",
    "        fill_mode='nearest',\n",
    "    )\n",
    "\n",
    "\n",
    "test_preprocessor = ImageDataGenerator(\n",
    "    rescale = 1 / 255.,\n",
    ")\n",
    "\n",
    "train_data = train_preprocessor.flow_from_directory(\n",
    "    train_data_path,\n",
    "    class_mode=\"categorical\",\n",
    "    target_size=(img_shape,img_shape),\n",
    "    color_mode='rgb',\n",
    "    shuffle=True,\n",
    "    batch_size=batch_size,\n",
    "    subset='training', \n",
    ")\n",
    "\n",
    "test_data = test_preprocessor.flow_from_directory(\n",
    "    test_data_path,\n",
    "    class_mode=\"categorical\",\n",
    "    target_size=(img_shape,img_shape),\n",
    "    color_mode=\"rgb\",\n",
    "    shuffle=False,\n",
    "    batch_size=batch_size,\n",
    ")"
   ]
  },
  {
   "cell_type": "code",
   "execution_count": 13,
   "id": "9c3964ab-7b20-48e0-ba23-5d97c2da9c9f",
   "metadata": {},
   "outputs": [
    {
     "data": {
      "text/html": [
       "<pre style=\"white-space:pre;overflow-x:auto;line-height:normal;font-family:Menlo,'DejaVu Sans Mono',consolas,'Courier New',monospace\"><span style=\"font-weight: bold\">Model: \"sequential_1\"</span>\n",
       "</pre>\n"
      ],
      "text/plain": [
       "\u001b[1mModel: \"sequential_1\"\u001b[0m\n"
      ]
     },
     "metadata": {},
     "output_type": "display_data"
    },
    {
     "data": {
      "text/html": [
       "<pre style=\"white-space:pre;overflow-x:auto;line-height:normal;font-family:Menlo,'DejaVu Sans Mono',consolas,'Courier New',monospace\">┏━━━━━━━━━━━━━━━━━━━━━━━━━━━━━━━━━━━━━━┳━━━━━━━━━━━━━━━━━━━━━━━━━━━━━┳━━━━━━━━━━━━━━━━━┓\n",
       "┃<span style=\"font-weight: bold\"> Layer (type)                         </span>┃<span style=\"font-weight: bold\"> Output Shape                </span>┃<span style=\"font-weight: bold\">         Param # </span>┃\n",
       "┡━━━━━━━━━━━━━━━━━━━━━━━━━━━━━━━━━━━━━━╇━━━━━━━━━━━━━━━━━━━━━━━━━━━━━╇━━━━━━━━━━━━━━━━━┩\n",
       "│ inception_resnet_v2 (<span style=\"color: #0087ff; text-decoration-color: #0087ff\">Functional</span>)     │ (<span style=\"color: #00d7ff; text-decoration-color: #00d7ff\">None</span>, <span style=\"color: #00af00; text-decoration-color: #00af00\">3</span>, <span style=\"color: #00af00; text-decoration-color: #00af00\">3</span>, <span style=\"color: #00af00; text-decoration-color: #00af00\">1536</span>)          │      <span style=\"color: #00af00; text-decoration-color: #00af00\">54,336,736</span> │\n",
       "├──────────────────────────────────────┼─────────────────────────────┼─────────────────┤\n",
       "│ global_average_pooling2d_1           │ (<span style=\"color: #00d7ff; text-decoration-color: #00d7ff\">None</span>, <span style=\"color: #00af00; text-decoration-color: #00af00\">1536</span>)                │               <span style=\"color: #00af00; text-decoration-color: #00af00\">0</span> │\n",
       "│ (<span style=\"color: #0087ff; text-decoration-color: #0087ff\">GlobalAveragePooling2D</span>)             │                             │                 │\n",
       "├──────────────────────────────────────┼─────────────────────────────┼─────────────────┤\n",
       "│ dense_2 (<span style=\"color: #0087ff; text-decoration-color: #0087ff\">Dense</span>)                      │ (<span style=\"color: #00d7ff; text-decoration-color: #00d7ff\">None</span>, <span style=\"color: #00af00; text-decoration-color: #00af00\">512</span>)                 │         <span style=\"color: #00af00; text-decoration-color: #00af00\">786,944</span> │\n",
       "├──────────────────────────────────────┼─────────────────────────────┼─────────────────┤\n",
       "│ dense_3 (<span style=\"color: #0087ff; text-decoration-color: #0087ff\">Dense</span>)                      │ (<span style=\"color: #00d7ff; text-decoration-color: #00d7ff\">None</span>, <span style=\"color: #00af00; text-decoration-color: #00af00\">7</span>)                   │           <span style=\"color: #00af00; text-decoration-color: #00af00\">3,591</span> │\n",
       "└──────────────────────────────────────┴─────────────────────────────┴─────────────────┘\n",
       "</pre>\n"
      ],
      "text/plain": [
       "┏━━━━━━━━━━━━━━━━━━━━━━━━━━━━━━━━━━━━━━┳━━━━━━━━━━━━━━━━━━━━━━━━━━━━━┳━━━━━━━━━━━━━━━━━┓\n",
       "┃\u001b[1m \u001b[0m\u001b[1mLayer (type)                        \u001b[0m\u001b[1m \u001b[0m┃\u001b[1m \u001b[0m\u001b[1mOutput Shape               \u001b[0m\u001b[1m \u001b[0m┃\u001b[1m \u001b[0m\u001b[1m        Param #\u001b[0m\u001b[1m \u001b[0m┃\n",
       "┡━━━━━━━━━━━━━━━━━━━━━━━━━━━━━━━━━━━━━━╇━━━━━━━━━━━━━━━━━━━━━━━━━━━━━╇━━━━━━━━━━━━━━━━━┩\n",
       "│ inception_resnet_v2 (\u001b[38;5;33mFunctional\u001b[0m)     │ (\u001b[38;5;45mNone\u001b[0m, \u001b[38;5;34m3\u001b[0m, \u001b[38;5;34m3\u001b[0m, \u001b[38;5;34m1536\u001b[0m)          │      \u001b[38;5;34m54,336,736\u001b[0m │\n",
       "├──────────────────────────────────────┼─────────────────────────────┼─────────────────┤\n",
       "│ global_average_pooling2d_1           │ (\u001b[38;5;45mNone\u001b[0m, \u001b[38;5;34m1536\u001b[0m)                │               \u001b[38;5;34m0\u001b[0m │\n",
       "│ (\u001b[38;5;33mGlobalAveragePooling2D\u001b[0m)             │                             │                 │\n",
       "├──────────────────────────────────────┼─────────────────────────────┼─────────────────┤\n",
       "│ dense_2 (\u001b[38;5;33mDense\u001b[0m)                      │ (\u001b[38;5;45mNone\u001b[0m, \u001b[38;5;34m512\u001b[0m)                 │         \u001b[38;5;34m786,944\u001b[0m │\n",
       "├──────────────────────────────────────┼─────────────────────────────┼─────────────────┤\n",
       "│ dense_3 (\u001b[38;5;33mDense\u001b[0m)                      │ (\u001b[38;5;45mNone\u001b[0m, \u001b[38;5;34m7\u001b[0m)                   │           \u001b[38;5;34m3,591\u001b[0m │\n",
       "└──────────────────────────────────────┴─────────────────────────────┴─────────────────┘\n"
      ]
     },
     "metadata": {},
     "output_type": "display_data"
    },
    {
     "data": {
      "text/html": [
       "<pre style=\"white-space:pre;overflow-x:auto;line-height:normal;font-family:Menlo,'DejaVu Sans Mono',consolas,'Courier New',monospace\"><span style=\"font-weight: bold\"> Total params: </span><span style=\"color: #00af00; text-decoration-color: #00af00\">55,127,271</span> (210.29 MB)\n",
       "</pre>\n"
      ],
      "text/plain": [
       "\u001b[1m Total params: \u001b[0m\u001b[38;5;34m55,127,271\u001b[0m (210.29 MB)\n"
      ]
     },
     "metadata": {},
     "output_type": "display_data"
    },
    {
     "data": {
      "text/html": [
       "<pre style=\"white-space:pre;overflow-x:auto;line-height:normal;font-family:Menlo,'DejaVu Sans Mono',consolas,'Courier New',monospace\"><span style=\"font-weight: bold\"> Trainable params: </span><span style=\"color: #00af00; text-decoration-color: #00af00\">790,535</span> (3.02 MB)\n",
       "</pre>\n"
      ],
      "text/plain": [
       "\u001b[1m Trainable params: \u001b[0m\u001b[38;5;34m790,535\u001b[0m (3.02 MB)\n"
      ]
     },
     "metadata": {},
     "output_type": "display_data"
    },
    {
     "data": {
      "text/html": [
       "<pre style=\"white-space:pre;overflow-x:auto;line-height:normal;font-family:Menlo,'DejaVu Sans Mono',consolas,'Courier New',monospace\"><span style=\"font-weight: bold\"> Non-trainable params: </span><span style=\"color: #00af00; text-decoration-color: #00af00\">54,336,736</span> (207.28 MB)\n",
       "</pre>\n"
      ],
      "text/plain": [
       "\u001b[1m Non-trainable params: \u001b[0m\u001b[38;5;34m54,336,736\u001b[0m (207.28 MB)\n"
      ]
     },
     "metadata": {},
     "output_type": "display_data"
    }
   ],
   "source": [
    "\n",
    "import numpy as np\n",
    "import tensorflow as tf\n",
    "from tensorflow.keras.applications import InceptionResNetV2\n",
    "from tensorflow.keras.layers import GlobalAveragePooling2D, Dense\n",
    "\n",
    "tf.random.set_seed(42)\n",
    "np.random.seed(42)\n",
    "\n",
    "# Load InceptionResNetV2 model with pretrained weights and without the top classification layers\n",
    "pretrained_model = InceptionResNetV2(weights='imagenet', include_top=False, input_shape=(150, 150, 3))\n",
    "\n",
    "# Freeze the layers in the pretrained model\n",
    "for layer in pretrained_model.layers:\n",
    "    layer.trainable = False\n",
    "\n",
    "# Create a new Sequential model\n",
    "inceptionresnet_model = tf.keras.Sequential()\n",
    "\n",
    "# Add the pretrained InceptionResNetV2 model to the new model\n",
    "inceptionresnet_model.add(pretrained_model)\n",
    "\n",
    "# Add GlobalAveragePooling2D layer to flatten the output\n",
    "inceptionresnet_model.add(GlobalAveragePooling2D())\n",
    "\n",
    "# Add a dense layer with 512 units and ReLU activation\n",
    "inceptionresnet_model.add(Dense(512, activation='relu'))\n",
    "\n",
    "# Add the output layer with appropriate units and activation for your task\n",
    "inceptionresnet_model.add(Dense(7, activation='softmax'))  # Replace 7 with your actual number of classes\n",
    "\n",
    "# Build the model with a specific input shape\n",
    "input_shape = (150, 150, 3)\n",
    "inceptionresnet_model.build((None, *input_shape))  # None is for batch size\n",
    "\n",
    "# Compile the model with optimizer, loss, and metrics\n",
    "inceptionresnet_model.compile(optimizer='adam', loss='categorical_crossentropy', metrics=['accuracy'])\n",
    "\n",
    "# Print the model summary\n",
    "inceptionresnet_model.summary()\n",
    "\n"
   ]
  },
  {
   "cell_type": "code",
   "execution_count": 14,
   "id": "b40d4e61-54c1-42f9-90b3-fc12846e5be7",
   "metadata": {},
   "outputs": [],
   "source": [
    "from tensorflow.keras.optimizers import Adam\n",
    "inceptionresnet_model.compile(optimizer=Adam(learning_rate=0.001),loss='categorical_crossentropy',metrics=['accuracy'])"
   ]
  },
  {
   "cell_type": "code",
   "execution_count": 15,
   "id": "960bf0e2-3d45-4f95-90e8-f831b015dc80",
   "metadata": {},
   "outputs": [
    {
     "name": "stdout",
     "output_type": "stream",
     "text": [
      "Epoch 1/20\n"
     ]
    },
    {
     "name": "stderr",
     "output_type": "stream",
     "text": [
      "C:\\Users\\ELANGO S\\AppData\\Local\\Programs\\Python\\Python312\\Lib\\site-packages\\keras\\src\\trainers\\data_adapters\\py_dataset_adapter.py:120: UserWarning: Your `PyDataset` class should call `super().__init__(**kwargs)` in its constructor. `**kwargs` can include `workers`, `use_multiprocessing`, `max_queue_size`. Do not pass these arguments to `fit()`, as they will be ignored.\n",
      "  self._warn_if_super_not_called()\n"
     ]
    },
    {
     "name": "stdout",
     "output_type": "stream",
     "text": [
      "\u001b[1m175/175\u001b[0m \u001b[32m━━━━━━━━━━━━━━━━━━━━\u001b[0m\u001b[37m\u001b[0m \u001b[1m707s\u001b[0m 4s/step - accuracy: 0.2612 - loss: 2.3286 - val_accuracy: 0.3486 - val_loss: 1.6754\n",
      "Epoch 2/20\n",
      "\u001b[1m175/175\u001b[0m \u001b[32m━━━━━━━━━━━━━━━━━━━━\u001b[0m\u001b[37m\u001b[0m \u001b[1m445s\u001b[0m 3s/step - accuracy: 0.3288 - loss: 1.7188 - val_accuracy: 0.3614 - val_loss: 1.6385\n",
      "Epoch 3/20\n",
      "\u001b[1m175/175\u001b[0m \u001b[32m━━━━━━━━━━━━━━━━━━━━\u001b[0m\u001b[37m\u001b[0m \u001b[1m731s\u001b[0m 4s/step - accuracy: 0.3511 - loss: 1.6429 - val_accuracy: 0.3864 - val_loss: 1.6277\n",
      "Epoch 4/20\n",
      "\u001b[1m175/175\u001b[0m \u001b[32m━━━━━━━━━━━━━━━━━━━━\u001b[0m\u001b[37m\u001b[0m \u001b[1m862s\u001b[0m 5s/step - accuracy: 0.3756 - loss: 1.6089 - val_accuracy: 0.4100 - val_loss: 1.5452\n",
      "Epoch 5/20\n",
      "\u001b[1m175/175\u001b[0m \u001b[32m━━━━━━━━━━━━━━━━━━━━\u001b[0m\u001b[37m\u001b[0m \u001b[1m775s\u001b[0m 4s/step - accuracy: 0.3991 - loss: 1.5802 - val_accuracy: 0.4114 - val_loss: 1.5521\n",
      "Epoch 6/20\n",
      "\u001b[1m175/175\u001b[0m \u001b[32m━━━━━━━━━━━━━━━━━━━━\u001b[0m\u001b[37m\u001b[0m \u001b[1m868s\u001b[0m 5s/step - accuracy: 0.3909 - loss: 1.5822 - val_accuracy: 0.4121 - val_loss: 1.5642\n",
      "Epoch 7/20\n",
      "\u001b[1m175/175\u001b[0m \u001b[32m━━━━━━━━━━━━━━━━━━━━\u001b[0m\u001b[37m\u001b[0m \u001b[1m739s\u001b[0m 4s/step - accuracy: 0.4058 - loss: 1.5420 - val_accuracy: 0.4286 - val_loss: 1.5234\n",
      "Epoch 8/20\n",
      "\u001b[1m175/175\u001b[0m \u001b[32m━━━━━━━━━━━━━━━━━━━━\u001b[0m\u001b[37m\u001b[0m \u001b[1m789s\u001b[0m 5s/step - accuracy: 0.4049 - loss: 1.5283 - val_accuracy: 0.4014 - val_loss: 1.5571\n",
      "Epoch 9/20\n",
      "\u001b[1m175/175\u001b[0m \u001b[32m━━━━━━━━━━━━━━━━━━━━\u001b[0m\u001b[37m\u001b[0m \u001b[1m788s\u001b[0m 5s/step - accuracy: 0.4255 - loss: 1.5133 - val_accuracy: 0.4164 - val_loss: 1.5296\n",
      "Epoch 10/20\n",
      "\u001b[1m175/175\u001b[0m \u001b[32m━━━━━━━━━━━━━━━━━━━━\u001b[0m\u001b[37m\u001b[0m \u001b[1m724s\u001b[0m 4s/step - accuracy: 0.4098 - loss: 1.5217 - val_accuracy: 0.4250 - val_loss: 1.5147\n",
      "Epoch 11/20\n",
      "\u001b[1m175/175\u001b[0m \u001b[32m━━━━━━━━━━━━━━━━━━━━\u001b[0m\u001b[37m\u001b[0m \u001b[1m641s\u001b[0m 4s/step - accuracy: 0.4298 - loss: 1.4907 - val_accuracy: 0.4443 - val_loss: 1.4999\n",
      "Epoch 12/20\n",
      "\u001b[1m175/175\u001b[0m \u001b[32m━━━━━━━━━━━━━━━━━━━━\u001b[0m\u001b[37m\u001b[0m \u001b[1m623s\u001b[0m 4s/step - accuracy: 0.4272 - loss: 1.4863 - val_accuracy: 0.4264 - val_loss: 1.5236\n",
      "Epoch 13/20\n",
      "\u001b[1m175/175\u001b[0m \u001b[32m━━━━━━━━━━━━━━━━━━━━\u001b[0m\u001b[37m\u001b[0m \u001b[1m662s\u001b[0m 4s/step - accuracy: 0.4298 - loss: 1.4663 - val_accuracy: 0.4071 - val_loss: 1.5326\n",
      "Epoch 14/20\n",
      "\u001b[1m175/175\u001b[0m \u001b[32m━━━━━━━━━━━━━━━━━━━━\u001b[0m\u001b[37m\u001b[0m \u001b[1m1948s\u001b[0m 11s/step - accuracy: 0.4418 - loss: 1.4597 - val_accuracy: 0.4243 - val_loss: 1.5400\n",
      "Epoch 15/20\n",
      "\u001b[1m175/175\u001b[0m \u001b[32m━━━━━━━━━━━━━━━━━━━━\u001b[0m\u001b[37m\u001b[0m \u001b[1m868s\u001b[0m 5s/step - accuracy: 0.4293 - loss: 1.4509 - val_accuracy: 0.4193 - val_loss: 1.5120\n",
      "Epoch 16/20\n",
      "\u001b[1m175/175\u001b[0m \u001b[32m━━━━━━━━━━━━━━━━━━━━\u001b[0m\u001b[37m\u001b[0m \u001b[1m646s\u001b[0m 4s/step - accuracy: 0.4452 - loss: 1.4411 - val_accuracy: 0.4321 - val_loss: 1.5190\n",
      "Epoch 17/20\n",
      "\u001b[1m175/175\u001b[0m \u001b[32m━━━━━━━━━━━━━━━━━━━━\u001b[0m\u001b[37m\u001b[0m \u001b[1m673s\u001b[0m 4s/step - accuracy: 0.4552 - loss: 1.4411 - val_accuracy: 0.4336 - val_loss: 1.5094\n",
      "Epoch 18/20\n",
      "\u001b[1m175/175\u001b[0m \u001b[32m━━━━━━━━━━━━━━━━━━━━\u001b[0m\u001b[37m\u001b[0m \u001b[1m529s\u001b[0m 3s/step - accuracy: 0.4620 - loss: 1.4137 - val_accuracy: 0.4543 - val_loss: 1.4762\n",
      "Epoch 19/20\n",
      "\u001b[1m175/175\u001b[0m \u001b[32m━━━━━━━━━━━━━━━━━━━━\u001b[0m\u001b[37m\u001b[0m \u001b[1m1562s\u001b[0m 9s/step - accuracy: 0.4624 - loss: 1.4279 - val_accuracy: 0.4293 - val_loss: 1.4897\n",
      "Epoch 20/20\n",
      "\u001b[1m175/175\u001b[0m \u001b[32m━━━━━━━━━━━━━━━━━━━━\u001b[0m\u001b[37m\u001b[0m \u001b[1m1543s\u001b[0m 9s/step - accuracy: 0.4672 - loss: 1.3971 - val_accuracy: 0.4493 - val_loss: 1.4904\n"
     ]
    }
   ],
   "source": [
    "epochs = 20\n",
    "history = inceptionresnet_model.fit(\n",
    "    train_data,\n",
    "    validation_data=test_data,\n",
    "    epochs=epochs\n",
    ")"
   ]
  },
  {
   "cell_type": "code",
   "execution_count": 18,
   "id": "c068c6a8-7500-4cab-86e4-dac431f84e3b",
   "metadata": {},
   "outputs": [
    {
     "name": "stdout",
     "output_type": "stream",
     "text": [
      "Found 1400 images belonging to 7 classes.\n",
      "Test data shape: (1400, 150, 150, 3)\n",
      "Test labels shape: (1400, 7)\n",
      "\u001b[1m44/44\u001b[0m \u001b[32m━━━━━━━━━━━━━━━━━━━━\u001b[0m\u001b[37m\u001b[0m \u001b[1m61s\u001b[0m 1s/step\n",
      "              precision    recall  f1-score   support\n",
      "\n",
      "           0       0.34      0.34      0.34       214\n",
      "           1       0.62      0.30      0.40       111\n",
      "           2       0.31      0.21      0.25       214\n",
      "           3       0.62      0.63      0.62       219\n",
      "           4       0.42      0.54      0.47       214\n",
      "           5       0.36      0.35      0.35       214\n",
      "           6       0.52      0.71      0.60       214\n",
      "\n",
      "    accuracy                           0.45      1400\n",
      "   macro avg       0.46      0.44      0.43      1400\n",
      "weighted avg       0.44      0.45      0.44      1400\n",
      "\n",
      "[[ 72   7  31  13  32  34  25]\n",
      " [ 31  33   6   8  12  12   9]\n",
      " [ 28   7  44  17  27  36  55]\n",
      " [ 19   0   8 138  19  18  17]\n",
      " [ 16   0  13  19 115  21  30]\n",
      " [ 39   3  28  18  45  74   7]\n",
      " [  4   3  14  10  22   8 153]]\n"
     ]
    }
   ],
   "source": [
    "from tensorflow.keras.preprocessing.image import ImageDataGenerator\n",
    "from sklearn.metrics import classification_report, confusion_matrix\n",
    "import numpy as np\n",
    "\n",
    "# Define the directory path where your test data is located\n",
    "test_data_dir =  r'C:\\Users\\ELANGO S\\ML-project\\test1000'\n",
    "\n",
    "# Create an ImageDataGenerator for test data\n",
    "test_datagen = ImageDataGenerator(rescale=1./255)  # You can add other preprocessing steps here if needed\n",
    "\n",
    "# Load test data using flow_from_directory\n",
    "test_data_generator = test_datagen.flow_from_directory(\n",
    "    test_data_dir,\n",
    "    target_size=(150, 150),  # Adjust the target size to match your model's input size\n",
    "    batch_size=32,\n",
    "    class_mode='categorical',  # Use 'categorical' for classification problems\n",
    "    shuffle=False  # Important: set shuffle to False for test data to keep labels in order\n",
    ")\n",
    "\n",
    "# Concatenate the batches to get the full test data and labels\n",
    "test_data_array = []\n",
    "test_labels = []\n",
    "\n",
    "try:\n",
    "    for i in range(len(test_data_generator)):\n",
    "        data, labels = test_data_generator[i]\n",
    "        test_data_array.append(data)\n",
    "        test_labels.append(labels)\n",
    "    \n",
    "    # Concatenate batches to get the full test data and labels\n",
    "    test_data_array = np.concatenate(test_data_array)\n",
    "    test_labels = np.concatenate(test_labels)\n",
    "    \n",
    "    # Print the shape of test data and labels to verify\n",
    "    print('Test data shape:', test_data_array.shape)\n",
    "    print('Test labels shape:', test_labels.shape)\n",
    "\n",
    "    # Make predictions\n",
    "    predictions = inceptionresnet_model.predict(test_data_array)\n",
    "\n",
    "    # Convert predictions and true labels to class labels\n",
    "    predicted_labels = np.argmax(predictions, axis=1)\n",
    "    true_labels = np.argmax(test_labels, axis=1)\n",
    "\n",
    "    # Calculate and print classification report\n",
    "    print(classification_report(true_labels, predicted_labels))\n",
    "\n",
    "    # Calculate and print confusion matrix\n",
    "    print(confusion_matrix(true_labels, predicted_labels))\n",
    "\n",
    "except Exception as e:\n",
    "    print(\"Error occurred:\", e)"
   ]
  },
  {
   "cell_type": "code",
   "execution_count": 20,
   "id": "94b0ed92-f541-431c-9181-7eed65748656",
   "metadata": {},
   "outputs": [
    {
     "name": "stdout",
     "output_type": "stream",
     "text": [
      "\u001b[1m175/175\u001b[0m \u001b[32m━━━━━━━━━━━━━━━━━━━━\u001b[0m\u001b[37m\u001b[0m \u001b[1m203s\u001b[0m 1s/step - accuracy: 0.4737 - loss: 1.4045\n",
      "\u001b[1m44/44\u001b[0m \u001b[32m━━━━━━━━━━━━━━━━━━━━\u001b[0m\u001b[37m\u001b[0m \u001b[1m441s\u001b[0m 10s/step - accuracy: 0.3691 - loss: 1.6893\n",
      "final train accuracy = 46.98 , validation accuracy = 44.93\n"
     ]
    }
   ],
   "source": [
    "train_loss, train_accu = inceptionresnet_model.evaluate(train_data)\n",
    "test_loss, test_accu = inceptionresnet_model.evaluate(test_data)\n",
    "print(\"final train accuracy = {:.2f} , validation accuracy = {:.2f}\".format(train_accu*100, test_accu*100))"
   ]
  },
  {
   "cell_type": "code",
   "execution_count": 21,
   "id": "8071020a-0d81-4e0b-870a-279a8e770289",
   "metadata": {},
   "outputs": [
    {
     "data": {
      "image/png": "[encoded data removed]",
      "text/plain": [
       "<Figure size 640x480 with 1 Axes>"
      ]
     },
     "metadata": {},
     "output_type": "display_data"
    }
   ],
   "source": [
    "fig1 = plt.gcf()\n",
    "plt.plot(history.history['accuracy'])\n",
    "plt.plot(history.history['val_accuracy'])\n",
    "plt.axis(ymin=0.1,ymax=1)\n",
    "plt.grid()\n",
    "plt.title('Model Accuracy')\n",
    "plt.xlabel('Epochs')\n",
    "plt.ylabel('Accuracy')\n",
    "plt.legend(['train', 'validation'])\n",
    "plt.show() "
   ]
  }
 ],
 "metadata": {
  "kernelspec": {
   "display_name": "Python 3 (ipykernel)",
   "language": "python",
   "name": "python3"
  },
  "language_info": {
   "codemirror_mode": {
    "name": "ipython",
    "version": 3
   },
   "file_extension": ".py",
   "mimetype": "text/x-python",
   "name": "python",
   "nbconvert_exporter": "python",
   "pygments_lexer": "ipython3",
   "version": "3.12.3"
  }
 },
 "nbformat": 4,
 "nbformat_minor": 5
}
